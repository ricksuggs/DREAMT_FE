{
 "cells": [
  {
   "cell_type": "code",
   "execution_count": null,
   "id": "678c2426",
   "metadata": {},
   "outputs": [],
   "source": [
    "# load packages\n",
    "import pandas as pd\n",
    "import numpy as np\n",
    "import random\n",
    "import shap\n",
    "import logging\n",
    "# Configure logging\n",
    "logging.basicConfig(level=logging.INFO, format='%(asctime)s - %(levelname)s - %(message)s')"
   ]
  },
  {
   "cell_type": "code",
   "execution_count": null,
   "id": "9cf53778",
   "metadata": {},
   "outputs": [],
   "source": [
    "logging.info(\"Importing modules\")"
   ]
  },
  {
   "cell_type": "code",
   "execution_count": null,
   "id": "3bcf4e9d",
   "metadata": {},
   "outputs": [],
   "source": [
    "from utils import *\n",
    "from models import *\n",
    "from datasets import *"
   ]
  },
  {
   "cell_type": "code",
   "execution_count": null,
   "id": "deb854a5",
   "metadata": {},
   "outputs": [],
   "source": [
    "import warnings\n",
    "warnings.filterwarnings(\"ignore\", category=pd.errors.PerformanceWarning)\n",
    "warnings.filterwarnings(\"ignore\", category=DeprecationWarning)\n",
    "warnings.filterwarnings(\"ignore\", category=RuntimeWarning)\n",
    "warnings.filterwarnings(\"ignore\", category=FutureWarning)"
   ]
  },
  {
   "cell_type": "code",
   "execution_count": null,
   "id": "f012d4c7",
   "metadata": {},
   "outputs": [],
   "source": []
  },
  {
   "cell_type": "code",
   "execution_count": null,
   "id": "d6e0ef45",
   "metadata": {},
   "outputs": [],
   "source": [
    "# Prepare the data\n",
    "# Adjust your path here\n",
    "quality_df_dir = './results/quality_scores_per_subject.csv'\n",
    "features_dir = \"dataset_sample/features_df/\"\n",
    "info_dir = \"dataset_sample/participant_info.csv\""
   ]
  },
  {
   "cell_type": "code",
   "execution_count": null,
   "id": "08f5a317",
   "metadata": {},
   "outputs": [],
   "source": [
    "logging.info(\"Preparing the data\")\n",
    "clean_df, new_features, good_quality_sids = data_preparation(\n",
    "    threshold = 0.2, \n",
    "    quality_df_dir = quality_df_dir,\n",
    "    features_dir = features_dir,\n",
    "    info_dir = info_dir)"
   ]
  },
  {
   "cell_type": "code",
   "execution_count": null,
   "id": "8456decc",
   "metadata": {},
   "outputs": [],
   "source": [
    "logging.info(\"Splitting data into train, validation, and test sets\")\n",
    "SW_df, final_features = split_data(clean_df, good_quality_sids, new_features)"
   ]
  },
  {
   "cell_type": "code",
   "execution_count": null,
   "id": "11ddbf71",
   "metadata": {},
   "outputs": [],
   "source": [
    "random.seed(0)\n",
    "train_sids = random.sample(good_quality_sids, 56)\n",
    "remaining_sids = [subj for subj in good_quality_sids if subj not in train_sids]\n",
    "val_sids = random.sample(remaining_sids, 8)\n",
    "test_sids = [subj for subj in remaining_sids if subj not in val_sids]"
   ]
  },
  {
   "cell_type": "code",
   "execution_count": null,
   "id": "0cda70b0",
   "metadata": {},
   "outputs": [],
   "source": [
    "group_variables = [\"AHI_Severity\", \"Obesity\"]\n",
    "# when idx == 0, it returns ['AHI_Severity'], the first variable in the list\n",
    "# when idx == 1, it returns ['Obesity'], the second variable in the list\n",
    "group_variable = get_variable(group_variables, idx=0)"
   ]
  },
  {
   "cell_type": "code",
   "execution_count": null,
   "id": "ab6fbb1f",
   "metadata": {},
   "outputs": [],
   "source": [
    "X_train, y_train, group_train = train_test_split(SW_df, train_sids, final_features, group_variable)\n",
    "X_val, y_val, group_val = train_test_split(SW_df, val_sids, final_features, group_variable)\n",
    "X_test, y_test, group_test = train_test_split(SW_df, test_sids, final_features, group_variable)"
   ]
  },
  {
   "cell_type": "code",
   "execution_count": null,
   "id": "4bf9500c",
   "metadata": {},
   "outputs": [],
   "source": [
    "logging.info(\"Resampling the training data\")\n",
    "X_train_resampled, y_train_resampled, group_train_resampled = resample_data(X_train, y_train, group_train, group_variable)"
   ]
  },
  {
   "cell_type": "code",
   "execution_count": null,
   "id": "c667becd",
   "metadata": {},
   "outputs": [],
   "source": [
    "logging.info(\"Running LightGBM model\")\n",
    "final_lgb_model = LightGBM_engine(X_train_resampled, y_train_resampled, X_val, y_val)"
   ]
  },
  {
   "cell_type": "code",
   "execution_count": null,
   "id": "41516528",
   "metadata": {},
   "outputs": [],
   "source": [
    "logging.info(\"Calculating training scores for LightGBM model\")\n",
    "prob_ls_train, len_train, true_ls_train = compute_probabilities(\n",
    "    train_sids, SW_df, final_features, \"lgb\", final_lgb_model, group_variable)\n",
    "lgb_train_results_df = LightGBM_result(final_lgb_model, X_train, y_train, prob_ls_train, true_ls_train)"
   ]
  },
  {
   "cell_type": "code",
   "execution_count": null,
   "id": "6c4add7a",
   "metadata": {},
   "outputs": [],
   "source": [
    "logging.info(\"Calculating testing scores for LightGBM model\")\n",
    "prob_ls_test, len_test, true_ls_test = compute_probabilities(\n",
    "    test_sids, SW_df, final_features, \"lgb\", final_lgb_model, group_variable)\n",
    "lgb_test_results_df = LightGBM_result(final_lgb_model, X_test, y_test, prob_ls_test, true_ls_test)"
   ]
  },
  {
   "cell_type": "code",
   "execution_count": null,
   "id": "79de8763",
   "metadata": {},
   "outputs": [],
   "source": [
    "logging.info(\"Identifying best features using SHAP\")\n",
    "explainer = shap.TreeExplainer(final_lgb_model)\n",
    "shap_values = explainer.shap_values(X_train)\n",
    "# shap.summary_plot(shap_values, X_train, plot_type=\"bar\", feature_names=final_features)"
   ]
  },
  {
   "cell_type": "markdown",
   "id": "41926a7f",
   "metadata": {},
   "source": [
    "logging.info(\"Creating train data for LSTM\")\n",
    "dataloader_train = LSTM_dataloader(\n",
    "    prob_ls_train, len_train, true_ls_train, batch_size=32\n",
    ")"
   ]
  },
  {
   "cell_type": "markdown",
   "id": "eb3ff277",
   "metadata": {},
   "source": [
    "logging.info(\"Running LSTM model\")\n",
    "LSTM_model = LSTM_engine(dataloader_train, num_epoch=300, hidden_layer_size=32, learning_rate=0.001)"
   ]
  },
  {
   "cell_type": "markdown",
   "id": "0dbe1184",
   "metadata": {},
   "source": [
    "logging.info(\"Testing LSTM model\")\n",
    "dataloader_test = LSTM_dataloader(\n",
    "    prob_ls_test, len_test, true_ls_test, batch_size=1\n",
    ")"
   ]
  },
  {
   "cell_type": "markdown",
   "id": "5f838526",
   "metadata": {},
   "source": [
    "lgb_lstm_test_results_df = LSTM_eval(LSTM_model, dataloader_test, true_ls_test, 'LightGBM_LSTM')"
   ]
  },
  {
   "cell_type": "code",
   "execution_count": null,
   "id": "11f3b5bc",
   "metadata": {},
   "outputs": [],
   "source": [
    "logging.info(\"Creating Transformer dataset for LightGBM\")\n",
    "dataloader_train = Transformer_dataloader(prob_ls_train, len_train, true_ls_train, batch_size=16)\n",
    "dataloader_test = Transformer_dataloader(prob_ls_test, len_test, true_ls_test, batch_size=1)"
   ]
  },
  {
   "cell_type": "code",
   "execution_count": null,
   "id": "b5f561f4",
   "metadata": {},
   "outputs": [],
   "source": [
    "logging.info(\"Running Transformer model for LightGBM post-processing\")\n",
    "transformer_model = Transformer_engine(dataloader_train, num_epoch=300)\n",
    "lgb_transformer_test_results_df = Transformer_eval(transformer_model, dataloader_test, true_ls_test, 'LightGBM_Transformer')"
   ]
  },
  {
   "cell_type": "markdown",
   "id": "fe5e5efc",
   "metadata": {},
   "source": [
    "logging.info(\"Running GPBoost model\")\n",
    "final_gpb_model = GPBoost_engine(X_train_resampled, group_train_resampled, y_train_resampled, X_val, y_val, group_val)"
   ]
  },
  {
   "cell_type": "markdown",
   "id": "f9014dd6",
   "metadata": {},
   "source": [
    "logging.info(\"Calculating training scores for GPBoost model\")\n",
    "prob_ls_train, len_train, true_ls_train = compute_probabilities(\n",
    "    train_sids, SW_df, final_features, 'gpb', final_gpb_model, group_variable)\n",
    "gpb_train_results_df = GPBoost_result(final_gpb_model, X_train, y_train, group_train, prob_ls_train, true_ls_train)"
   ]
  },
  {
   "cell_type": "markdown",
   "id": "5741bd81",
   "metadata": {},
   "source": [
    "logging.info(\"Calculating testing scores for GPBoost model\")\n",
    "prob_ls_test, len_test, true_ls_test = compute_probabilities(\n",
    "    test_sids, SW_df, final_features, 'gpb', final_gpb_model, group_variable)\n",
    "gpb_test_results_df = GPBoost_result(final_gpb_model, X_test, y_test, group_test, prob_ls_test, true_ls_test)"
   ]
  },
  {
   "cell_type": "markdown",
   "id": "6e66a534",
   "metadata": {},
   "source": [
    "logging.info(\"Creating LSTM dataset for GPBoost\")\n",
    "dataloader_train = LSTM_dataloader(\n",
    "    prob_ls_train, len_train, true_ls_train, batch_size=32\n",
    ")\n",
    "dataloader_test = LSTM_dataloader(\n",
    "    prob_ls_test, len_test, true_ls_test, batch_size=1\n",
    ")"
   ]
  },
  {
   "cell_type": "markdown",
   "id": "6b06e82e",
   "metadata": {},
   "source": [
    "logging.info(\"Running LSTM model for GPBoost\")\n",
    "LSTM_model = LSTM_engine(dataloader_train, num_epoch=300, hidden_layer_size=32, learning_rate = 0.001)\n",
    "gpb_lstm_test_results_df = LSTM_eval(LSTM_model, dataloader_test, true_ls_test, 'GPBoost_LSTM')"
   ]
  },
  {
   "cell_type": "markdown",
   "id": "284aed8b",
   "metadata": {},
   "source": [
    "logging.info(\"Running Transformer model for GPBoost post-processing\")\n",
    "transformer_model = Transformer_engine(\n",
    "    dataloader_train, \n",
    "    num_epoch=300, \n",
    "    d_model=128,\n",
    "    nhead=4,\n",
    "    num_layers=2,\n",
    "    learning_rate=0.001,\n",
    "    accumulation_steps=8\n",
    ")\n",
    "gpb_transformer_test_results_df = Transformer_eval(transformer_model, dataloader_test, true_ls_test, 'GPBoost_Transformer')"
   ]
  },
  {
   "cell_type": "code",
   "execution_count": null,
   "id": "b42775ba",
   "metadata": {},
   "outputs": [],
   "source": [
    "# overall result\n",
    "overall_result = pd.concat([\n",
    "    lgb_test_results_df, \n",
    "    # lgb_lstm_test_results_df,\n",
    "    lgb_transformer_test_results_df,\n",
    "    # gpb_test_results_df, \n",
    "    # gpb_lstm_test_results_df,\n",
    "    # gpb_transformer_test_results_df\n",
    "])\n",
    "print(group_variable)\n",
    "print(overall_result)"
   ]
  }
 ],
 "metadata": {
  "jupytext": {
   "cell_metadata_filter": "-all",
   "main_language": "python",
   "notebook_metadata_filter": "-all"
  }
 },
 "nbformat": 4,
 "nbformat_minor": 5
}
